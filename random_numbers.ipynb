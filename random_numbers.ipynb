{
 "cells": [
  {
   "cell_type": "code",
   "execution_count": 1,
   "id": "9eea7c70",
   "metadata": {},
   "outputs": [],
   "source": [
    "# Import the random module.\n",
    "import random"
   ]
  },
  {
   "cell_type": "code",
   "execution_count": 2,
   "id": "820aeb48",
   "metadata": {},
   "outputs": [
    {
     "data": {
      "text/plain": [
       "0.3912064558717764"
      ]
     },
     "execution_count": 2,
     "metadata": {},
     "output_type": "execute_result"
    }
   ],
   "source": [
    "random.random()"
   ]
  },
  {
   "cell_type": "code",
   "execution_count": 3,
   "id": "5b042ecb",
   "metadata": {},
   "outputs": [
    {
     "ename": "TypeError",
     "evalue": "randrange() missing 1 required positional argument: 'start'",
     "output_type": "error",
     "traceback": [
      "\u001b[1;31m---------------------------------------------------------------------------\u001b[0m",
      "\u001b[1;31mTypeError\u001b[0m                                 Traceback (most recent call last)",
      "\u001b[1;32m~\\AppData\\Local\\Temp\\ipykernel_8016\\2278077932.py\u001b[0m in \u001b[0;36m<module>\u001b[1;34m\u001b[0m\n\u001b[1;32m----> 1\u001b[1;33m \u001b[0mrandom\u001b[0m\u001b[1;33m.\u001b[0m\u001b[0mrandrange\u001b[0m\u001b[1;33m(\u001b[0m\u001b[1;33m)\u001b[0m\u001b[1;33m\u001b[0m\u001b[1;33m\u001b[0m\u001b[0m\n\u001b[0m",
      "\u001b[1;31mTypeError\u001b[0m: randrange() missing 1 required positional argument: 'start'"
     ]
    }
   ],
   "source": [
    "random.randrange()"
   ]
  },
  {
   "cell_type": "code",
   "execution_count": 4,
   "id": "15409b0c",
   "metadata": {},
   "outputs": [
    {
     "ename": "TypeError",
     "evalue": "uniform() missing 2 required positional arguments: 'a' and 'b'",
     "output_type": "error",
     "traceback": [
      "\u001b[1;31m---------------------------------------------------------------------------\u001b[0m",
      "\u001b[1;31mTypeError\u001b[0m                                 Traceback (most recent call last)",
      "\u001b[1;32m~\\AppData\\Local\\Temp\\ipykernel_8016\\2392520689.py\u001b[0m in \u001b[0;36m<module>\u001b[1;34m\u001b[0m\n\u001b[1;32m----> 1\u001b[1;33m \u001b[0mrandom\u001b[0m\u001b[1;33m.\u001b[0m\u001b[0muniform\u001b[0m\u001b[1;33m(\u001b[0m\u001b[1;33m)\u001b[0m\u001b[1;33m\u001b[0m\u001b[1;33m\u001b[0m\u001b[0m\n\u001b[0m",
      "\u001b[1;31mTypeError\u001b[0m: uniform() missing 2 required positional arguments: 'a' and 'b'"
     ]
    }
   ],
   "source": [
    "random.uniform()"
   ]
  },
  {
   "cell_type": "code",
   "execution_count": 5,
   "id": "db72e4d8",
   "metadata": {},
   "outputs": [
    {
     "data": {
      "text/plain": [
       "71"
      ]
     },
     "execution_count": 5,
     "metadata": {},
     "output_type": "execute_result"
    }
   ],
   "source": [
    "random.randint(-90, 90)"
   ]
  },
  {
   "cell_type": "code",
   "execution_count": 6,
   "id": "6fb4ea4b",
   "metadata": {},
   "outputs": [],
   "source": [
    "random_number = random.randint(-90, 90) + random.random()"
   ]
  },
  {
   "cell_type": "code",
   "execution_count": 11,
   "id": "c40c6a6e",
   "metadata": {},
   "outputs": [
    {
     "data": {
      "text/plain": [
       "-41.843033019071925"
      ]
     },
     "execution_count": 11,
     "metadata": {},
     "output_type": "execute_result"
    }
   ],
   "source": [
    "random_number"
   ]
  },
  {
   "cell_type": "code",
   "execution_count": 12,
   "id": "e5e3eda3",
   "metadata": {},
   "outputs": [],
   "source": [
    "x = 1\n",
    "latitudes = []\n",
    "while x < 11:\n",
    "    random_lat = random.randint(-90, 89) + random.random()\n",
    "    latitudes.append(random_lat)\n",
    "    x += 1"
   ]
  },
  {
   "cell_type": "code",
   "execution_count": 13,
   "id": "9e594bcc",
   "metadata": {},
   "outputs": [
    {
     "data": {
      "text/plain": [
       "[-63.06359962416207,\n",
       " 66.33643477644183,\n",
       " 26.20545871928153,\n",
       " -88.78791073857474,\n",
       " 6.725247527771193,\n",
       " -71.94758441075363,\n",
       " -42.88030085088541,\n",
       " -81.28406198008351,\n",
       " 34.294672858618355,\n",
       " -16.760597128519645]"
      ]
     },
     "execution_count": 13,
     "metadata": {},
     "output_type": "execute_result"
    }
   ],
   "source": [
    "latitudes"
   ]
  },
  {
   "cell_type": "code",
   "execution_count": 16,
   "id": "fbc96339",
   "metadata": {},
   "outputs": [
    {
     "data": {
      "text/plain": [
       "11"
      ]
     },
     "execution_count": 16,
     "metadata": {},
     "output_type": "execute_result"
    }
   ],
   "source": [
    "random.randrange(-90, 90, step=1)"
   ]
  },
  {
   "cell_type": "code",
   "execution_count": 22,
   "id": "10aa3e8d",
   "metadata": {},
   "outputs": [
    {
     "data": {
      "text/plain": [
       "-42"
      ]
     },
     "execution_count": 22,
     "metadata": {},
     "output_type": "execute_result"
    }
   ],
   "source": [
    "random.randrange(-90, 90, step=3)"
   ]
  },
  {
   "cell_type": "code",
   "execution_count": 23,
   "id": "74223276",
   "metadata": {},
   "outputs": [
    {
     "data": {
      "text/plain": [
       "28.810951163980448"
      ]
     },
     "execution_count": 23,
     "metadata": {},
     "output_type": "execute_result"
    }
   ],
   "source": [
    "random.uniform(-90, 90)"
   ]
  },
  {
   "cell_type": "code",
   "execution_count": 24,
   "id": "1ac4b8d0",
   "metadata": {},
   "outputs": [],
   "source": [
    "# Import the NumPy module.\n",
    "import numpy as np"
   ]
  },
  {
   "cell_type": "code",
   "execution_count": 25,
   "id": "01914424",
   "metadata": {},
   "outputs": [
    {
     "data": {
      "text/plain": [
       "16.40560259506792"
      ]
     },
     "execution_count": 25,
     "metadata": {},
     "output_type": "execute_result"
    }
   ],
   "source": [
    "np.random.uniform(-90.000, 90.000)"
   ]
  },
  {
   "cell_type": "code",
   "execution_count": 26,
   "id": "79264d85",
   "metadata": {},
   "outputs": [
    {
     "data": {
      "text/plain": [
       "-89.28536235680875"
      ]
     },
     "execution_count": 26,
     "metadata": {},
     "output_type": "execute_result"
    }
   ],
   "source": [
    "np.random.uniform(low=-90, high=90)"
   ]
  },
  {
   "cell_type": "code",
   "execution_count": 27,
   "id": "4d925461",
   "metadata": {},
   "outputs": [
    {
     "data": {
      "text/plain": [
       "array([ 43.41100678,  27.71414698, -71.71218486,  13.67985388,\n",
       "        13.73980547,  -7.89138237, -24.17520324, -11.1543366 ,\n",
       "       -74.09211138,  74.82184434, -69.02909273,  -7.14400063,\n",
       "        -0.65292597,   6.71729975, -25.91221186, -28.78411214,\n",
       "       -43.47455228,  28.51594257,  -6.74939424,  39.6477917 ,\n",
       "       -32.05568004, -74.46527788,  36.32343772,   4.20745825,\n",
       "        48.53007677, -32.89687517, -80.79030976, -55.10459665,\n",
       "       -73.26798187,  35.22475298, -71.67864372,  78.29242304,\n",
       "       -88.89714033, -67.35283819, -80.78500685, -53.93436087,\n",
       "        82.81866787,  10.62287676,  86.41924566, -81.19986129,\n",
       "       -12.05117099, -48.58060692, -28.0540305 ,  13.89740581,\n",
       "        81.6361905 ,  44.34573465, -16.94563527,  61.1893624 ,\n",
       "       -59.74262409,  -6.73069901])"
      ]
     },
     "execution_count": 27,
     "metadata": {},
     "output_type": "execute_result"
    }
   ],
   "source": [
    "np.random.uniform(-90.000, 90.000, size=50)"
   ]
  },
  {
   "cell_type": "code",
   "execution_count": 28,
   "id": "8ea5dc14",
   "metadata": {},
   "outputs": [],
   "source": [
    "# Import timeit.\n",
    "import timeit"
   ]
  },
  {
   "cell_type": "code",
   "execution_count": 29,
   "id": "c2ebee76",
   "metadata": {},
   "outputs": [
    {
     "name": "stdout",
     "output_type": "stream",
     "text": [
      "11.9 µs ± 640 ns per loop (mean ± std. dev. of 7 runs, 100000 loops each)\n"
     ]
    }
   ],
   "source": [
    "%timeit np.random.uniform(-90.000, 90.000, size=1500)"
   ]
  },
  {
   "cell_type": "code",
   "execution_count": 30,
   "id": "f4c2bccf",
   "metadata": {},
   "outputs": [
    {
     "name": "stdout",
     "output_type": "stream",
     "text": [
      "1.34 ms ± 45.4 µs per loop (mean ± std. dev. of 7 runs, 1000 loops each)\n"
     ]
    }
   ],
   "source": [
    "def latitudes(size):\n",
    "    latitudes = []\n",
    "    x = 0\n",
    "    while x < (size):\n",
    "        random_lat = random.randint(-90, 90) + random.random()\n",
    "        latitudes.append(random_lat)\n",
    "        x += 1\n",
    "    return latitudes\n",
    "# Call the function with 1500.\n",
    "%timeit latitudes(1500)"
   ]
  },
  {
   "cell_type": "code",
   "execution_count": 31,
   "id": "14ecebc9",
   "metadata": {},
   "outputs": [
    {
     "name": "stdout",
     "output_type": "stream",
     "text": [
      "1.46 ms ± 43 µs per loop (mean ± std. dev. of 7 runs, 1000 loops each)\n"
     ]
    }
   ],
   "source": [
    "def latitudes_for_loop(size):\n",
    "    latitudes = []\n",
    "    for  x in range (0, size):\n",
    "        random_lat = random.randint(-90, 90) + random.random()\n",
    "        latitudes.append(random_lat)\n",
    "    return latitudes\n",
    "# Call the function with 1500.\n",
    "%timeit latitudes_for_loop(1500)"
   ]
  },
  {
   "cell_type": "code",
   "execution_count": null,
   "id": "47be4cb1",
   "metadata": {},
   "outputs": [],
   "source": []
  },
  {
   "cell_type": "code",
   "execution_count": null,
   "id": "2805b210",
   "metadata": {},
   "outputs": [],
   "source": []
  },
  {
   "cell_type": "code",
   "execution_count": null,
   "id": "f9a2d65c",
   "metadata": {},
   "outputs": [],
   "source": []
  }
 ],
 "metadata": {
  "kernelspec": {
   "display_name": "Python 3 (ipykernel)",
   "language": "python",
   "name": "python3"
  },
  "language_info": {
   "codemirror_mode": {
    "name": "ipython",
    "version": 3
   },
   "file_extension": ".py",
   "mimetype": "text/x-python",
   "name": "python",
   "nbconvert_exporter": "python",
   "pygments_lexer": "ipython3",
   "version": "3.7.13"
  }
 },
 "nbformat": 4,
 "nbformat_minor": 5
}
